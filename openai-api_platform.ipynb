{
 "cells": [
  {
   "cell_type": "markdown",
   "metadata": {},
   "source": [
    "**Interacting with Azure OpenAI with GenAI Gateway Capabilities by APIM**\n",
    "\n",
    "This Jupyter Notebook demonstrates how to connect to Azure OpenAI’s API through the APIM endpoint using Azure Active Directory for authentication. It includes generating a chat completion response based on a prompt.\n",
    "\n",
    "##### Requirements\n",
    "\n",
    "Before running this notebook, ensure that the following Python libraries are installed:\n",
    "```bash\n",
    "pip install openai azure-identity\n",
    "```"
   ]
  },
  {
   "cell_type": "code",
   "execution_count": 1,
   "metadata": {},
   "outputs": [],
   "source": [
    "#### Import Libraries and Set Up Authentication\n",
    "\n",
    "#### In this section, we import necessary libraries, set up the Azure AD authentication, and connect to the Azure OpenAI endpoint.\n",
    "\n",
    "# import necessary libraries\n",
    "from openai import AzureOpenAI\n",
    "from azure.identity import InteractiveBrowserCredential, get_bearer_token_provider\n",
    "\n",
    "# set up Azure AD token provider\n",
    "token_provider = get_bearer_token_provider(\n",
    "    InteractiveBrowserCredential(),\n",
    "    \"https://cognitiveservices.azure.com/.default\"\n",
    ")\n",
    "\n",
    "# initialize AzureOpenAI client\n",
    "client = AzureOpenAI(\n",
    "    azure_endpoint=\"https://azapimdev.yourdomain.com/youropenaiapi/v2\",\n",
    "    azure_ad_token_provider=token_provider,\n",
    "    api_version=\"2024-05-01-preview\"\n",
    ")"
   ]
  },
  {
   "cell_type": "markdown",
   "metadata": {},
   "source": [
    "\n",
    "**Explanation:**\n",
    "\n",
    "- `InteractiveBrowserCredential()`: Prompts an interactive login for the user, ensuring a secure token generation.\n",
    "- `get_bearer_token_provider()`: Used to obtain the bearer token, required for Azure OpenAI.\n",
    "- `AzureOpenAI`: Connects to the Azure OpenAI service, using the specified APIM URL and API version."
   ]
  },
  {
   "cell_type": "code",
   "execution_count": 5,
   "metadata": {},
   "outputs": [
    {
     "name": "stdout",
     "output_type": "stream",
     "text": [
      "What are some challenges to achieving financial inclusion?.\n"
     ]
    }
   ],
   "source": [
    "#### Generate Chat Completion\n",
    "\n",
    "#### In this section, we send a message related to your project and generate a response.\n",
    "\n",
    "APIM_SUBSCRIPTION_KEY = \"insert your APIM subcription key here\"\n",
    "\n",
    "# generate a chat completion response\n",
    "\n",
    "response = client.chat.completions.create(\n",
    "    model=\"gpt-35-turbo-16k\",\n",
    "    messages=[\n",
    "        {\"role\": \"system\", \"content\": \"You are an AI assistant helping with your projects.\"},\n",
    "        {\"role\": \"user\", \"content\": \"Explain the importance of financial inclusion .\"}\n",
    "    ],\n",
    "    extra_headers={'api-key': APIM_SUBSCRIPTION_KEY}\n",
    "    # extra_headers={'api-key': \"insert APIM subscription key\"}\n",
    ")\n",
    "\n",
    "# print the response\n",
    "print(response.choices[0].message.content)"
   ]
  },
  {
   "cell_type": "markdown",
   "metadata": {},
   "source": [
    "**Explanation:**\n",
    "\n",
    "- **Model**: We use the `gpt-35-turbo-16k` model for generating responses.\n",
    "- **Extra Headers**: The `APIM subscription key` is provided as an extra header for authentication.\n",
    "\n",
    "#### Output\n",
    "\n",
    "Running the above code will provide a response from the model, related to financial inclusion.\n",
    "\n",
    "##### Troubleshooting Tips:\n",
    "\n",
    "1. **Authentication Issues**:\n",
    "   - Ensure that Azure AD login is successful when prompted.\n",
    "   \n",
    "2. **APIM Key Issues**:\n",
    "   - Ensure that a valid APIM subscription key is used.\n",
    "   - Check that the key is associated with the APIM service.\n",
    "\n",
    "3. **Response Issues**:\n",
    "   - If the model fails to generate a response, ensure that the model name and deployment settings are correct.\n",
    "   - Adjust the prompt for better response quality.\n",
    "\n",
    "#### Conclusion\n",
    "\n",
    "This notebook demonstrates how to use Azure OpenAI with Azure AD authentication to generate chat completions. Modify the prompt and model parameters as needed for different use cases."
   ]
  },
  {
   "cell_type": "markdown",
   "metadata": {},
   "source": [
    "---------------------------------------------Happy Coding--------------------------------------------------"
   ]
  }
 ],
 "metadata": {
  "kernelspec": {
   "display_name": "api_platform",
   "language": "python",
   "name": "python3"
  },
  "language_info": {
   "codemirror_mode": {
    "name": "ipython",
    "version": 3
   },
   "file_extension": ".py",
   "mimetype": "text/x-python",
   "name": "python",
   "nbconvert_exporter": "python",
   "pygments_lexer": "ipython3",
   "version": "3.9.19"
  }
 },
 "nbformat": 4,
 "nbformat_minor": 2
}
